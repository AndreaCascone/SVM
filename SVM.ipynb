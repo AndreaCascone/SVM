{
 "cells": [
  {
   "cell_type": "markdown",
   "metadata": {},
   "source": [
    "# Import Packages"
   ]
  },
  {
   "cell_type": "code",
   "execution_count": 1,
   "metadata": {},
   "outputs": [],
   "source": [
    "import pandas as pd\n",
    "import numpy as np\n",
    "\n",
    "import matplotlib.pyplot as plt\n",
    "import seaborn as sns\n",
    "%matplotlib inline\n",
    "sns.set(style='white', context='notebook', palette='deep')\n",
    "\n",
    "from tensorflow.keras.datasets import mnist\n",
    "from scipy.ndimage import interpolation\n",
    "from sklearn.model_selection import train_test_split\n",
    "from sklearn.svm import SVC\n",
    "from sklearn import metrics\n",
    "from sklearn.decomposition import PCA\n",
    "from sklearn.model_selection import GridSearchCV"
   ]
  },
  {
   "cell_type": "markdown",
   "metadata": {},
   "source": [
    "# Data Preparation"
   ]
  },
  {
   "cell_type": "markdown",
   "metadata": {},
   "source": [
    "## Import Data"
   ]
  },
  {
   "cell_type": "code",
   "execution_count": 2,
   "metadata": {},
   "outputs": [],
   "source": [
    "(X_train, Y_train), (X_test, Y_test) = mnist.load_data(path='mnist.npz')"
   ]
  },
  {
   "cell_type": "markdown",
   "metadata": {},
   "source": [
    "## Deskewing\n",
    "\n",
    "Handwritten images representing the same digit can variate considerably visually, possibly appearing crooked, inclined, misaligned, slanted and/or skewed. Computers, unlike humans, fail to capture easily similarities between image transformations.\n",
    "\n",
    "To faciliate the algorithm task, we model the image deskewing as an affine transformation. We assume that the handwritten image is in reality some affine transformation on the original unknown image. We can write this as follows:  \n",
    "\n",
    "$Image'=A(Image)+b$, where $Image'$ is the handwritten image, $Image$ is the original unknow image, A represents the linear map, and b represents the translation.\n",
    "\n",
    "We know need to know:\n",
    " - The center of mass of the image in order to offset it accordingly.\n",
    " - The skew of the angle, approximated by the lower triangular correlation matrix of the pixel intensities.\n",
    "\n",
    "The function _moments_ below returns the first moments for both image dimensions and the correlation matrix.\n",
    "\n",
    "The offset is computed as: $\\mu - AC$, where $C$ is the center of the handwritten image."
   ]
  },
  {
   "cell_type": "markdown",
   "metadata": {},
   "source": [
    "### Define Moment Function"
   ]
  },
  {
   "cell_type": "code",
   "execution_count": 3,
   "metadata": {},
   "outputs": [],
   "source": [
    "def moments(image):\n",
    "    shp0, shp1 = np.mgrid[:image.shape[0],:image.shape[1]] \n",
    "    n_pixels = np.sum(image)\n",
    "    m1_x = np.sum(shp0*image)/n_pixels \n",
    "    m1_y = np.sum(shp1*image)/n_pixels \n",
    "    m2_x = np.sum((shp0-m1_x)**2*image)/n_pixels \n",
    "    m2_y = np.sum((shp1-m1_y)**2*image)/n_pixels \n",
    "    cov = np.sum((shp0-m1_x)*(shp1-m1_y)*image)/n_pixels\n",
    "    mu_vector = np.array([m1_x,m1_y]) \n",
    "    correlation_matrix = np.array([[m2_x/m2_x, 0],[cov/m2_x, m2_y/m2_y]])\n",
    "    return mu_vector, correlation_matrix"
   ]
  },
  {
   "cell_type": "markdown",
   "metadata": {},
   "source": [
    "### Define Deskewing-Scaling Function"
   ]
  },
  {
   "cell_type": "code",
   "execution_count": 4,
   "metadata": {},
   "outputs": [],
   "source": [
    "def deskew_scale(image):\n",
    "    mu_v, corr_m = moments(image)\n",
    "    affine = corr_m\n",
    "    ocenter = np.array(image.shape)/2.0\n",
    "    offset = mu_v-np.dot(affine, ocenter)\n",
    "    img = interpolation.affine_transform(image, affine, offset = offset)\n",
    "    return (img - img.min()) / (img.max() - img.min())"
   ]
  },
  {
   "cell_type": "markdown",
   "metadata": {},
   "source": [
    "### Exempli Gratia"
   ]
  },
  {
   "cell_type": "code",
   "execution_count": 5,
   "metadata": {},
   "outputs": [
    {
     "data": {
      "image/png": "[encoded data removed]",
      "text/plain": [
       "<Figure size 432x288 with 1 Axes>"
      ]
     },
     "metadata": {},
     "output_type": "display_data"
    }
   ],
   "source": [
    "plt.imshow(X_train[7]);"
   ]
  },
  {
   "cell_type": "code",
   "execution_count": 6,
   "metadata": {},
   "outputs": [
    {
     "data": {
      "image/png": "[encoded data removed]",
      "text/plain": [
       "<Figure size 432x288 with 1 Axes>"
      ]
     },
     "metadata": {},
     "output_type": "display_data"
    }
   ],
   "source": [
    "plt.imshow(deskew_scale(X_train[7]));"
   ]
  },
  {
   "cell_type": "markdown",
   "metadata": {},
   "source": [
    "### Deskewed and Rescaled Image Generation"
   ]
  },
  {
   "cell_type": "code",
   "execution_count": 7,
   "metadata": {},
   "outputs": [],
   "source": [
    "tmp_train = np.zeros((X_train.shape[0], X_train.shape[1] * X_train.shape[2]))\n",
    "\n",
    "for i in range(X_train.shape[0]):\n",
    "    tmp_train[i] = deskew_scale(X_train[i]).flatten()\n",
    "\n",
    "X_train = tmp_train"
   ]
  },
  {
   "cell_type": "code",
   "execution_count": 8,
   "metadata": {},
   "outputs": [],
   "source": [
    "tmp_test = np.zeros((X_test.shape[0], X_test.shape[1] * X_test.shape[2]))\n",
    "\n",
    "for i in range(X_test.shape[0]):\n",
    "    tmp_test[i] = deskew_scale(X_test[i]).flatten()\n",
    "    \n",
    "X_test = tmp_test"
   ]
  },
  {
   "cell_type": "markdown",
   "metadata": {},
   "source": [
    "## Class Balance"
   ]
  },
  {
   "cell_type": "code",
   "execution_count": 9,
   "metadata": {},
   "outputs": [
    {
     "data": {
      "image/png": "[encoded data removed]",
      "text/plain": [
       "<Figure size 432x288 with 1 Axes>"
      ]
     },
     "metadata": {},
     "output_type": "display_data"
    }
   ],
   "source": [
    "sns.histplot(Y_train), sns.histplot(Y_test);"
   ]
  },
  {
   "cell_type": "markdown",
   "metadata": {},
   "source": [
    "# SVM Model"
   ]
  },
  {
   "cell_type": "code",
   "execution_count": 10,
   "metadata": {},
   "outputs": [],
   "source": [
    "X_train, X_val, Y_train, Y_val = train_test_split(X_train, Y_train, test_size=0.30, random_state=1)"
   ]
  },
  {
   "cell_type": "markdown",
   "metadata": {},
   "source": [
    "# PCA\n",
    "\n",
    "Principal Component Analysis (PCA) identifies linear combinations, called principal components, of the variables along which the data varies the most. We can summarize the features of the dataset by few principal components who collectively explain most of the variation in the dataset. These components are orthogonal to each other, i.e. uncorrelated.\n",
    "\n",
    "i-th Principal Component = $Z_i = a_{1i}X_1 + a_{2i}X_2 + ... + a_{pi}X_p = Xa_i$, \n",
    "\n",
    "where \n",
    "- $n$ is the number of observations.\n",
    "- $p$ is the number of features.\n",
    "- $Z_i$ is the $n \\times 1$ vector whose elements are the scores of the i-th PC.\n",
    "- $a_i$ is the $p \\times 1$ vector whose elements are the loadings of X on the i-th PC. \n",
    "- $X$ is the $n \\times p$ feature matrix. \n",
    "\n",
    "To identify the loadings we must impose a constraint. PCA imposes the following constraint: $a'_ia_i = \\sum_{i=1}^p a_{ij}^2 = 1$ for all $j = 1, ..., p$\n",
    "\n",
    "As we want to maximise the variance we have the following objective function (we assume that all features in X have been demeaned):\n",
    "\\begin{equation}\n",
    "\\max_{a_i}[\\widehat{Var}(Z_i)]=\\max_{a_i}[a'_i \\frac{X'X}{n}a_i], \\: a'_ia_i=1 \\quad a'_ia_{i-1}=0\n",
    "\\end{equation}\n",
    "\n",
    "### Eigenvalues & Eigenvectors\n",
    "\n",
    "For a matrix $A$, a scalar $\\lambda$ is an eigenvalue of $A$ if and only if there is a non-zero vector $\\mathbf {v}$, called an eigenvector, such that\n",
    "\\begin{equation}\n",
    "A\\mathbf {v} =\\lambda \\mathbf {v} \\Leftrightarrow (A - \\lambda I)\\mathbf {v} =0\n",
    "\\end{equation}\n",
    "\n",
    "Since $\\mathbf {v}$ must be non-zero, the matrix $A - \\lambda I$ has a non-zero kernel. This matrix is not invertible, and its determinant is zero. The eigenvalues of $A$ are the roots of $det(A - \\lambda I)$, which is a polynomial in $\\lambda$.\n",
    "\n",
    "### Method of Lagrange Multipliers\n",
    "\n",
    "Let's $R=\\frac{X'X}{n}$ and the constraint be $a'_ia_i=1$, then the first order condition is:  \n",
    "\n",
    "\\begin{equation}\n",
    "\\max_{a}L(a) = a'Ra - \\lambda(a'a-1) \\\\ \n",
    "\\frac{\\partial L(a)}{\\partial a} = 2(Ra-\\lambda a)=0 \\\\  \n",
    "Ra-\\lambda a=0 \\\\ \n",
    "(R-\\lambda I_p)a=0 \\\\ \n",
    "det(R-\\lambda I_p)=0 \\\\ \n",
    "\\end{equation} \n",
    "\n",
    "We first find $\\lambda$ (eigenvalues), then $a$ (eigenvectors).   \n",
    "__NB:__ There are $p$ solutions for each (identified up to a sign flip for eigenvectors).\n",
    "\n",
    "As $R$ is symmetric and positive (semi)-definite by construction, the eigenvectors are orthogonal (by the [spectral theorem](https://en.wikipedia.org/wiki/Spectral_theorem))."
   ]
  },
  {
   "cell_type": "code",
   "execution_count": 11,
   "metadata": {},
   "outputs": [],
   "source": [
    "def n_component_analysis(n, X_train, Y_train, X_val, Y_val, kernel_type=\"linear\"):\n",
    "   \n",
    "    pca = PCA(n_components=n)\n",
    "    print(\"PCA begin with variance explained: {}\".format(n))\n",
    "    pca.fit(X_train)\n",
    "\n",
    "    X_train_pca = pca.transform(X_train)\n",
    "    X_val_pca = pca.transform(X_val)\n",
    "\n",
    "    print('SVC begin')\n",
    "    clf1 = SVC(kernel = kernel_type)\n",
    "    clf1.fit(X_train_pca, Y_train)\n",
    "    predictions = clf1.predict(X_val_pca)\n",
    "    accuracy = metrics.accuracy_score(Y_val, predictions)\n",
    "    \n",
    "    print(\"Accuracy: {}\".format(accuracy))\n",
    "    return accuracy"
   ]
  },
  {
   "cell_type": "code",
   "execution_count": 14,
   "metadata": {},
   "outputs": [
    {
     "name": "stdout",
     "output_type": "stream",
     "text": [
      "PCA begin with variance explained: 0.85\n",
      "SVC begin\n",
      "Accuracy: 0.9849444444444444\n",
      "PCA begin with variance explained: 0.861111111111111\n",
      "SVC begin\n",
      "Accuracy: 0.9852222222222222\n",
      "PCA begin with variance explained: 0.8722222222222222\n",
      "SVC begin\n",
      "Accuracy: 0.9855555555555555\n",
      "PCA begin with variance explained: 0.8833333333333333\n",
      "SVC begin\n",
      "Accuracy: 0.9857777777777778\n",
      "PCA begin with variance explained: 0.8944444444444444\n",
      "SVC begin\n",
      "Accuracy: 0.9859444444444444\n",
      "PCA begin with variance explained: 0.9055555555555556\n",
      "SVC begin\n",
      "Accuracy: 0.986\n",
      "PCA begin with variance explained: 0.9166666666666666\n",
      "SVC begin\n",
      "Accuracy: 0.986\n",
      "PCA begin with variance explained: 0.9277777777777777\n",
      "SVC begin\n",
      "Accuracy: 0.9857777777777778\n",
      "PCA begin with variance explained: 0.9388888888888889\n",
      "SVC begin\n",
      "Accuracy: 0.9856666666666667\n",
      "PCA begin with variance explained: 0.95\n",
      "SVC begin\n",
      "Accuracy: 0.9858888888888889\n"
     ]
    }
   ],
   "source": [
    "n_s = np.linspace(0.85, 0.95, num=10)\n",
    "accuracy = []\n",
    "for n in n_s:\n",
    "    tmp = n_component_analysis(n, X_train, Y_train, X_val, Y_val, \"rbf\")\n",
    "    accuracy.append(tmp)"
   ]
  },
  {
   "cell_type": "code",
   "execution_count": 15,
   "metadata": {},
   "outputs": [
    {
     "data": {
      "image/png": "[encoded data removed]",
      "text/plain": [
       "<Figure size 432x288 with 1 Axes>"
      ]
     },
     "metadata": {},
     "output_type": "display_data"
    }
   ],
   "source": [
    "plt.figure()\n",
    "plt.plot(n_s, np.array(accuracy), label='Accuracy vs % Variance Explained')\n",
    "plt.legend()\n",
    "plt.show()"
   ]
  },
  {
   "cell_type": "code",
   "execution_count": 16,
   "metadata": {},
   "outputs": [
    {
     "data": {
      "text/plain": [
       "0.9867222222222222"
      ]
     },
     "execution_count": 16,
     "metadata": {},
     "output_type": "execute_result"
    }
   ],
   "source": [
    "pca = PCA(n_components=0.91)\n",
    "pca.fit(X_train)\n",
    "X_train_pca = pca.transform(X_train)\n",
    "X_val_pca = pca.transform(X_val)\n",
    "\n",
    "clf1 = SVC(kernel=\"rbf\", C=20, gamma=0.01)\n",
    "clf1.fit(X_train_pca, Y_train)\n",
    "predictions=clf1.predict(X_val_pca)\n",
    "metrics.accuracy_score(Y_val, predictions)"
   ]
  },
  {
   "cell_type": "code",
   "execution_count": 17,
   "metadata": {},
   "outputs": [
    {
     "name": "stdout",
     "output_type": "stream",
     "text": [
      "Accuracy: 0.9876\n"
     ]
    }
   ],
   "source": [
    "results = clf1.predict(pca.transform(X_test))\n",
    "accuracy = metrics.accuracy_score(Y_test, results)\n",
    "print('Accuracy: {}'.format(accuracy))"
   ]
  }
 ],
 "metadata": {
  "kernelspec": {
   "display_name": "Python 3",
   "language": "python",
   "name": "python3"
  },
  "language_info": {
   "codemirror_mode": {
    "name": "ipython",
    "version": 3
   },
   "file_extension": ".py",
   "mimetype": "text/x-python",
   "name": "python",
   "nbconvert_exporter": "python",
   "pygments_lexer": "ipython3",
   "version": "3.8.5"
  }
 },
 "nbformat": 4,
 "nbformat_minor": 4
}
